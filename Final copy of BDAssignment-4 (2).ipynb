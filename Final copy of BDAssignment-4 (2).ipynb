{
 "cells": [
  {
   "cell_type": "code",
   "execution_count": 114,
   "id": "ce4fab67",
   "metadata": {},
   "outputs": [],
   "source": [
    " # here we are imprting the required libraries\n",
    "import numpy as np\n",
    "import pandas as pd\n",
    "import matplotlib.pyplot as plt\n",
    "import matplotlib.image as mpimg\n",
    "import math\n",
    "import os\n",
    "from PIL import Image\n",
    "from sklearn import neighbors\n",
    "from sklearn import metrics\n",
    "\n"
   ]
  },
  {
   "cell_type": "code",
   "execution_count": 115,
   "id": "0ef53ee6",
   "metadata": {},
   "outputs": [],
   "source": [
    "def rgbDetailsInImage(image):\n",
    "    \n",
    "    totalRGBValue = np.array(image).mean(axis=(0,1))\n",
    "    R = totalRGBValue[0]\n",
    "    G = totalRGBValue[1]\n",
    "    B = totalRGBValue[2]\n",
    "    \n",
    "    Sum = totalRGBValue[0] + totalRGBValue[1] + totalRGBValue[2]\n",
    "    \n",
    "    percentR = totalRGBValue[0]/Sum                                       \n",
    "    percentG = totalRGBValue[1]/Sum\n",
    "    percentB = totalRGBValue[2]/Sum\n",
    "    \n",
    "    return percentR,percentG, percentB"
   ]
  },
  {
   "cell_type": "code",
   "execution_count": 116,
   "id": "f4133df1",
   "metadata": {},
   "outputs": [
    {
     "name": "stdout",
     "output_type": "stream",
     "text": [
      "----------------------------------------------------------------------------------------------\n",
      "img1.jpg\n",
      "img10.jpg\n",
      "img11.jpg\n",
      "img12.jpg\n",
      "img13.jpg\n",
      "img14.jpg\n",
      "img15.jpg\n",
      "img16.jpg\n",
      "img17.jpg\n",
      "img18.jpg\n",
      "img19.jpg\n",
      "img2.jpg\n",
      "img20.jpg\n",
      "img21.jpg\n",
      "img22.jpg\n",
      "img23.jpg\n",
      "img24.jpg\n",
      "img25.jpg\n",
      "img26.jpg\n",
      "img27.jpg\n",
      "img28.jpg\n",
      "img29.jpg\n",
      "img3.jpg\n",
      "img30.jpg\n",
      "img31.jpg\n",
      "img32.jpg\n",
      "img33.jpg\n",
      "img34.jpg\n",
      "img35.jpg\n",
      "img36.jpg\n",
      "img37.jpg\n",
      "img38.jpg\n",
      "img39.jpg\n",
      "img4.jpg\n",
      "img40.jpg\n",
      "img41.jpg\n",
      "img42.jpg\n",
      "img43.jpg\n",
      "img44.jpg\n",
      "img45.jpg\n",
      "img46.jpg\n",
      "img47.jpg\n",
      "img48.jpg\n",
      "img49.jpg\n",
      "img5.jpg\n",
      "img50.jpg\n",
      "img51.jpg\n",
      "img52.jpg\n",
      "img53.jpg\n",
      "img54.jpg\n",
      "img55.jpg\n",
      "img56.jpg\n",
      "img57.jpg\n",
      "img58.jpg\n",
      "img59.jpg\n",
      "img6.jpg\n",
      "img60.jpg\n",
      "img7.jpg\n",
      "img8.jpg\n",
      "img9.jpg\n",
      "nimg1.jpeg\n",
      "nimg2.jpeg\n",
      "nimg3.jpeg\n",
      "nimg4.jpeg\n",
      "nimg5.jpeg\n",
      "nimg6.jpeg\n",
      "66\n"
     ]
    }
   ],
   "source": [
    "\n",
    "\n",
    "#Loading the Training data from the given \n",
    "path=\"C:\\\\Users\\\\ajay9\\\\Downloads\\\\Bruned images\\\\Bruned images\\\\Training_data\"\n",
    "imagefiles=os.listdir(path)\n",
    "print(\"----------------------------------------------------------------------------------------------\")\n",
    "#since the given folder contains DS_Store it will be removed as below command\n",
    "imagefiles.remove('.DS_Store')\n",
    "for i in imagefiles:\n",
    "    print(i)\n",
    "print(len(imagefiles))"
   ]
  },
  {
   "cell_type": "code",
   "execution_count": 117,
   "id": "8288aec6",
   "metadata": {},
   "outputs": [
    {
     "name": "stdout",
     "output_type": "stream",
     "text": [
      "['burn', 'burn', 'burn', 'burn', 'burn', 'burn', 'burn', 'burn', 'burn', 'burn', 'burn', 'burn', 'burn', 'burn', 'burn', 'burn', 'burn', 'burn', 'burn', 'burn', 'burn', 'burn', 'burn', 'burn', 'burn', 'burn', 'burn', 'burn', 'burn', 'burn', 'burn', 'burn', 'burn', 'burn', 'burn', 'burn', 'burn', 'burn', 'burn', 'burn', 'burn', 'burn', 'burn', 'burn', 'burn', 'burn', 'burn', 'burn', 'burn', 'burn', 'burn', 'burn', 'burn', 'burn', 'burn', 'burn', 'burn', 'burn', 'burn', 'burn', 'notburn', 'notburn', 'notburn', 'notburn', 'notburn', 'notburn']\n",
      "66\n"
     ]
    }
   ],
   "source": [
    "\n",
    "#assigning the Labels for the Training data\n",
    "TrainingLabels = ['burn' if image.startswith('i') else 'notburn' for image in imagefiles ]\n",
    "#Checking the TrainingLabels\n",
    "print(TrainingLabels)\n",
    "# checking whether the total labels are assigned or not.\n",
    "print(len(TrainingLabels))\n"
   ]
  },
  {
   "cell_type": "code",
   "execution_count": 118,
   "id": "60715d5a",
   "metadata": {},
   "outputs": [
    {
     "name": "stdout",
     "output_type": "stream",
     "text": [
      "The RGB values of the each image that we loaded as training data\n",
      "------------------------------------------------------------------------------------------------------------\n",
      "[[0.42520099 0.30435003 0.27044897]\n",
      " [0.38874152 0.32624389 0.28501459]\n",
      " [0.36840558 0.32176806 0.30982635]\n",
      " [0.36840558 0.32176806 0.30982635]\n",
      " [0.38970389 0.30817766 0.30211845]\n",
      " [0.46181488 0.27848414 0.25970098]\n",
      " [0.41428982 0.31884883 0.26686135]\n",
      " [0.37784529 0.31121264 0.31094207]\n",
      " [0.35305823 0.33170995 0.31523182]\n",
      " [0.36716732 0.30927295 0.32355973]\n",
      " [0.37160438 0.30080512 0.32759051]\n",
      " [0.4596631  0.32764069 0.21269622]\n",
      " [0.3637359  0.3271627  0.3091014 ]\n",
      " [0.3828321  0.32307611 0.2940918 ]\n",
      " [0.37367447 0.32703539 0.29929014]\n",
      " [0.34920394 0.32151774 0.32927831]\n",
      " [0.41314529 0.31894789 0.26790683]\n",
      " [0.36884861 0.32676576 0.30438562]\n",
      " [0.36373807 0.31084273 0.32541919]\n",
      " [0.44056839 0.28948625 0.26994535]\n",
      " [0.46027413 0.32716861 0.21255725]\n",
      " [0.45812826 0.31058049 0.23129124]\n",
      " [0.33836867 0.34130102 0.32033032]\n",
      " [0.53344615 0.29691101 0.16964284]\n",
      " [0.54702969 0.24291365 0.21005666]\n",
      " [0.46077306 0.27969531 0.25953163]\n",
      " [0.4856299  0.30391649 0.21045361]\n",
      " [0.43043536 0.29758617 0.27197848]\n",
      " [0.38304373 0.32266781 0.29428846]\n",
      " [0.42889541 0.31683115 0.25427344]\n",
      " [0.3774648  0.32036626 0.30216894]\n",
      " [0.40725282 0.31120532 0.28154187]\n",
      " [0.37204442 0.3003571  0.32759848]\n",
      " [0.37804846 0.31162832 0.31032322]\n",
      " [0.39791983 0.30992121 0.29215896]\n",
      " [0.40549773 0.31545926 0.27904301]\n",
      " [0.41735271 0.3096415  0.27300579]\n",
      " [0.43043536 0.29758617 0.27197848]\n",
      " [0.46077306 0.27969531 0.25953163]\n",
      " [0.43969001 0.28761356 0.27269644]\n",
      " [0.36840558 0.32176806 0.30982635]\n",
      " [0.39050088 0.31348781 0.29601131]\n",
      " [0.39362075 0.29588284 0.31049641]\n",
      " [0.46181488 0.27848414 0.25970098]\n",
      " [0.42160342 0.31635799 0.26203858]\n",
      " [0.37901199 0.31394126 0.30704675]\n",
      " [0.40108804 0.3236829  0.27522907]\n",
      " [0.39788256 0.31809494 0.2840225 ]\n",
      " [0.36995982 0.29892869 0.3311115 ]\n",
      " [0.38721502 0.32330903 0.28947596]\n",
      " [0.36844373 0.32166977 0.30988649]\n",
      " [0.53344615 0.29691101 0.16964284]\n",
      " [0.40037543 0.31134633 0.28827824]\n",
      " [0.39143016 0.31267214 0.2958977 ]\n",
      " [0.42022414 0.31422384 0.26555202]\n",
      " [0.38837642 0.32224262 0.28938096]\n",
      " [0.43632055 0.31267392 0.25100553]\n",
      " [0.43684298 0.3060911  0.25706592]\n",
      " [0.37793297 0.32756687 0.29450017]\n",
      " [0.40137309 0.31085479 0.28777212]\n",
      " [0.39327223 0.32461819 0.28210958]\n",
      " [0.34516288 0.3352583  0.31957882]\n",
      " [0.36653409 0.32505875 0.30840716]\n",
      " [0.3487433  0.32436706 0.32688964]\n",
      " [0.36777238 0.3234945  0.30873312]\n",
      " [0.42915776 0.32488186 0.24596039]]\n"
     ]
    }
   ],
   "source": [
    "#Since the we just loaded the images now we are going to extract the RGBvalues of the each image that we loaded\n",
    "trainingset = [] # after extracting the RGB value of each image we are going to append the each RGB value into this Training set\n",
    "for i in imagefiles:\n",
    "    imagepath = 'C:\\\\Users\\\\ajay9\\\\Downloads\\\\Bruned images\\\\Bruned images\\\\Training_data\\\\' + i\n",
    "    \n",
    "    img = Image.open(imagepath)\n",
    "   \n",
    "    trainingset.append(rgbDetailsInImage(img)) #using the function defined before\n",
    "    \n",
    "\n",
    "print(\"The RGB values of the each image that we loaded as training data\")   \n",
    "print(\"------------------------------------------------------------------------------------------------------------\")\n",
    "RGB_TrainingArray= np.array(trainingset)\n",
    "print(RGB_TrainingArray)"
   ]
  },
  {
   "cell_type": "code",
   "execution_count": 119,
   "id": "eb3da882",
   "metadata": {},
   "outputs": [],
   "source": [
    "k1 = neighbors.KNeighborsClassifier(1,weights='distance') # initiating the KNN classifier with n-neighbors as 1"
   ]
  },
  {
   "cell_type": "code",
   "execution_count": 120,
   "id": "8b2a8c2d",
   "metadata": {},
   "outputs": [
    {
     "data": {
      "text/plain": [
       "KNeighborsClassifier(n_neighbors=1, weights='distance')"
      ]
     },
     "execution_count": 120,
     "metadata": {},
     "output_type": "execute_result"
    }
   ],
   "source": [
    "k1.fit(RGB_TrainingArray,TrainingLabels) # Now we are fit the Images values to the TrianingLabels"
   ]
  },
  {
   "cell_type": "code",
   "execution_count": 121,
   "id": "bb17ebaf",
   "metadata": {},
   "outputs": [
    {
     "name": "stdout",
     "output_type": "stream",
     "text": [
      "['img64.jpg', 'img65.jpg', 'nimg7.jpeg']\n",
      "(0.3866068411201154, 0.32173062843164274, 0.2916625304482418)\n",
      "(0.3855221186650065, 0.32065001658265924, 0.29382786475233436)\n",
      "(0.34557617590194173, 0.3305853644087891, 0.3238384596892691)\n",
      "[(0.3866068411201154, 0.32173062843164274, 0.2916625304482418), (0.3855221186650065, 0.32065001658265924, 0.29382786475233436), (0.34557617590194173, 0.3305853644087891, 0.3238384596892691)]\n",
      "['burn', 'burn', 'notburn']\n"
     ]
    }
   ],
   "source": [
    "import random\n",
    "\n",
    "Testimage  = ['img64.jpg', 'img65.jpg', 'nimg7.jpeg']\n",
    "TestSet_Images = []\n",
    "\n",
    "TestImagesPath=\"C:\\\\Users\\\\ajay9\\\\Downloads\\\\Bruned images\\\\Bruned images\\\\Testing_data\"\n",
    "\n",
    "imagefiles_test=os.listdir(TestImagesPath)\n",
    "\n",
    "#Testset= random.sample(imagefiles_test, 3) # Selecting the 3 random images to test the algorithm\n",
    "for i in Testimage:\n",
    "    imagepath = 'C:\\\\Users\\\\ajay9\\\\Downloads\\\\Bruned images\\\\Bruned images\\\\Testing_data\\\\' + i \n",
    "    \n",
    "    \n",
    "    img = Image.open(imagepath)\n",
    "    \n",
    "    TestSet_Images.append(rgbDetailsInImage(img)) #using the function defined before\n",
    "    \n",
    "print(Testimage)\n",
    "\n",
    "\n",
    "for i in TestSet_Images:\n",
    "    print(i)\n",
    "\n",
    "print(TestSet_Images)\n",
    "\n",
    "TestLabels = ['burn' if image.startswith('i') else 'notburn' for image in Testimage] # Setting the Labels for the truth values\n",
    "\n",
    "print(TestLabels)\n"
   ]
  },
  {
   "cell_type": "code",
   "execution_count": 122,
   "id": "ddb836cc",
   "metadata": {},
   "outputs": [
    {
     "name": "stdout",
     "output_type": "stream",
     "text": [
      "Numpy Array with the TestSet values of PercentGreen and PercentBlue of the Test images\n",
      "---------------------------------------------\n",
      "[[0.38660684 0.32173063 0.29166253]\n",
      " [0.38552212 0.32065002 0.29382786]\n",
      " [0.34557618 0.33058536 0.32383846]]\n"
     ]
    }
   ],
   "source": [
    "#PercentRed values from Test set\n",
    "PercentRed = [x for x, y,z in TestSet_Images]\n",
    "\n",
    "PercentRedArray = np.array(PercentRed)\n",
    "\n",
    "PercentGreen = [y for x, y,z in TestSet_Images]\n",
    "\n",
    "PercentGreenArray = np.array(PercentGreen)\n",
    "\n",
    "PercentBlue = [z for x, y,z in TestSet_Images]\n",
    "\n",
    "PercentBlueArray = np.array(PercentBlue)\n",
    "    \n",
    "\n",
    "RGB_TestArray = np.column_stack((PercentRedArray,PercentGreenArray,PercentBlueArray))\n",
    "\n",
    "print(\"Numpy Array with the TestSet values of PercentGreen and PercentBlue of the Test images\")\n",
    "print(\"---------------------------------------------\")\n",
    "print(RGB_TestArray)"
   ]
  },
  {
   "cell_type": "code",
   "execution_count": 123,
   "id": "33ef92b5",
   "metadata": {},
   "outputs": [
    {
     "name": "stdout",
     "output_type": "stream",
     "text": [
      "[[0.38660684 0.32173063 0.29166253]\n",
      " [0.38552212 0.32065002 0.29382786]\n",
      " [0.34557618 0.33058536 0.32383846]]\n"
     ]
    }
   ],
   "source": [
    "RGB_TestArray= np.array(TestSet_Images) # Assigning the values into the array\n",
    "print(GB_TestArray)"
   ]
  },
  {
   "cell_type": "code",
   "execution_count": 124,
   "id": "dc931c35",
   "metadata": {},
   "outputs": [
    {
     "name": "stdout",
     "output_type": "stream",
     "text": [
      "Predicted Values of Three Images:\n",
      "['burn' 'burn' 'notburn']\n"
     ]
    }
   ],
   "source": [
    "k1_pred = k1.predict(RGB_TestArray)# we are predicting the algo using the test values\n",
    "\n",
    "print(\"Predicted Values of Three Images:\")\n",
    "print(k1_pred)"
   ]
  },
  {
   "cell_type": "code",
   "execution_count": 125,
   "id": "58c09c01",
   "metadata": {},
   "outputs": [
    {
     "data": {
      "text/plain": [
       "array([[2, 0],\n",
       "       [0, 1]], dtype=int64)"
      ]
     },
     "execution_count": 125,
     "metadata": {},
     "output_type": "execute_result"
    }
   ],
   "source": [
    "from sklearn.metrics import accuracy_score, recall_score, average_precision_score, confusion_matrix, precision_score\n",
    "confusion_matrix(y_true=TestLabels, y_pred=k1_pred)#implement the confusion matrix"
   ]
  },
  {
   "cell_type": "code",
   "execution_count": 126,
   "id": "3199104c",
   "metadata": {},
   "outputs": [
    {
     "name": "stdout",
     "output_type": "stream",
     "text": [
      "Accuracy for k=1\n",
      "100.0 %\n"
     ]
    }
   ],
   "source": [
    "accuracy_k1 = accuracy_score(TestLabels,k1_pred)\n",
    "print('Accuracy for k=1')\n",
    "print(accuracy_k1*100 ,\"%\") # Here we are checking the accuracy about our prediction"
   ]
  },
  {
   "cell_type": "code",
   "execution_count": 127,
   "id": "b00a7037",
   "metadata": {},
   "outputs": [],
   "source": [
    "# Now we are going to initiate the Input2-> Training the KNN-classifier with only 60% of the Training data\n",
    "# Here we can use 2 ways on with the library from sklearn.model_selection import train_test_split or by using the random choice \n",
    "# Here we have the test size for example if the test_size= 0.5 then the training data will be used 50 % only.Here I am going to use the same thing\n"
   ]
  },
  {
   "cell_type": "code",
   "execution_count": 128,
   "id": "57e286e5",
   "metadata": {},
   "outputs": [],
   "source": [
    "def rgbDetailsInImage_Input2(image):\n",
    "    \n",
    "    totalRGBValue_Input2 = np.array(image).mean(axis=(0,1))\n",
    "    R = totalRGBValue_Input2[0]\n",
    "    G = totalRGBValue_Input2[1]\n",
    "    B = totalRGBValue_Input2[2]\n",
    "    \n",
    "    Sum_Input2 = totalRGBValue_Input2[0] + totalRGBValue_Input2[1] + totalRGBValue_Input2[2]\n",
    "    \n",
    "    percentR_Input2 = totalRGBValue_Input2[0]/Sum_Input2                                       \n",
    "    percentG_Input2 = totalRGBValue_Input2[1]/Sum_Input2\n",
    "    percentB_Input2 = totalRGBValue_Input2[2]/Sum_Input2\n",
    "    \n",
    "    return percentR_Input2,percentG_Input2, percentB_Input2"
   ]
  },
  {
   "cell_type": "code",
   "execution_count": 129,
   "id": "ce250d07",
   "metadata": {},
   "outputs": [
    {
     "name": "stdout",
     "output_type": "stream",
     "text": [
      "----------------------------------------------------------------------------------------------\n",
      "img1.jpg\n",
      "img10.jpg\n",
      "img11.jpg\n",
      "img12.jpg\n",
      "img13.jpg\n",
      "img14.jpg\n",
      "img15.jpg\n",
      "img16.jpg\n",
      "img17.jpg\n",
      "img18.jpg\n",
      "img19.jpg\n",
      "img2.jpg\n",
      "img20.jpg\n",
      "img21.jpg\n",
      "img22.jpg\n",
      "img23.jpg\n",
      "img24.jpg\n",
      "img25.jpg\n",
      "img26.jpg\n",
      "img27.jpg\n",
      "img28.jpg\n",
      "img29.jpg\n",
      "img3.jpg\n",
      "img30.jpg\n",
      "img31.jpg\n",
      "img32.jpg\n",
      "img33.jpg\n",
      "img34.jpg\n",
      "img35.jpg\n",
      "img36.jpg\n",
      "img37.jpg\n",
      "img38.jpg\n",
      "img39.jpg\n",
      "img4.jpg\n",
      "img40.jpg\n",
      "img41.jpg\n",
      "img42.jpg\n",
      "img43.jpg\n",
      "img44.jpg\n",
      "img45.jpg\n",
      "img46.jpg\n",
      "img47.jpg\n",
      "img48.jpg\n",
      "img49.jpg\n",
      "img5.jpg\n",
      "img50.jpg\n",
      "img51.jpg\n",
      "img52.jpg\n",
      "img53.jpg\n",
      "img54.jpg\n",
      "img55.jpg\n",
      "img56.jpg\n",
      "img57.jpg\n",
      "img58.jpg\n",
      "img59.jpg\n",
      "img6.jpg\n",
      "img60.jpg\n",
      "img7.jpg\n",
      "img8.jpg\n",
      "img9.jpg\n",
      "nimg1.jpeg\n",
      "nimg2.jpeg\n",
      "nimg3.jpeg\n",
      "nimg4.jpeg\n",
      "nimg5.jpeg\n",
      "nimg6.jpeg\n",
      "66\n"
     ]
    }
   ],
   "source": [
    "#Loading the Training data from the given \n",
    "path=\"C:\\\\Users\\\\ajay9\\\\Downloads\\\\Bruned images\\\\Bruned images\\\\Training_data\"\n",
    "imagefiles_Input2=os.listdir(path)\n",
    "print(\"----------------------------------------------------------------------------------------------\")\n",
    "#since the given folder contains DS_Store it will be removed as below command\n",
    "imagefiles_Input2.remove('.DS_Store')\n",
    "for i in imagefiles_Input2:\n",
    "    print(i)\n",
    "print(len(imagefiles_Input2))"
   ]
  },
  {
   "cell_type": "code",
   "execution_count": 130,
   "id": "59628229",
   "metadata": {},
   "outputs": [
    {
     "name": "stdout",
     "output_type": "stream",
     "text": [
      "['burn', 'burn', 'burn', 'burn', 'burn', 'burn', 'burn', 'burn', 'burn', 'burn', 'burn', 'burn', 'burn', 'burn', 'burn', 'burn', 'burn', 'burn', 'burn', 'burn', 'burn', 'burn', 'burn', 'burn', 'burn', 'burn', 'burn', 'burn', 'burn', 'burn', 'burn', 'burn', 'burn', 'burn', 'burn', 'burn', 'burn', 'burn', 'burn', 'burn', 'burn', 'burn', 'burn', 'burn', 'burn', 'burn', 'burn', 'burn', 'burn', 'burn', 'burn', 'burn', 'burn', 'burn', 'burn', 'burn', 'burn', 'burn', 'burn', 'burn', 'notburn', 'notburn', 'notburn', 'notburn', 'notburn', 'notburn']\n",
      "66\n"
     ]
    }
   ],
   "source": [
    "#assigning the Labels for the Training data\n",
    "TrainingLabels_input2 = ['burn' if image.startswith('i') else 'notburn' for image in imagefiles_Input2 ]\n",
    "#Checking the TrainingLabels\n",
    "print(TrainingLabels_input2)\n",
    "# checking whether the total labels are assigned or not.\n",
    "print(len(TrainingLabels_input2))"
   ]
  },
  {
   "cell_type": "code",
   "execution_count": 131,
   "id": "2b5e0852",
   "metadata": {},
   "outputs": [],
   "source": [
    "from sklearn.model_selection import train_test_split\n",
    "imagefiles_Input2_new,_,TrainingLabels_input2_new,_= train_test_split(imagefiles_Input2,TrainingLabels_input2, test_size=0.4, random_state=2)\n"
   ]
  },
  {
   "cell_type": "code",
   "execution_count": 132,
   "id": "d9da93ba",
   "metadata": {},
   "outputs": [
    {
     "name": "stdout",
     "output_type": "stream",
     "text": [
      "RGB % of the Input2 Training data\n",
      "------------------------------------------------------------------------------------------------------------\n",
      "[[0.37367447 0.32703539 0.29929014]\n",
      " [0.36844373 0.32166977 0.30988649]\n",
      " [0.41314529 0.31894789 0.26790683]\n",
      " [0.36840558 0.32176806 0.30982635]\n",
      " [0.46077306 0.27969531 0.25953163]\n",
      " [0.44056839 0.28948625 0.26994535]\n",
      " [0.42022414 0.31422384 0.26555202]\n",
      " [0.41428982 0.31884883 0.26686135]\n",
      " [0.39362075 0.29588284 0.31049641]\n",
      " [0.54702969 0.24291365 0.21005666]\n",
      " [0.46181488 0.27848414 0.25970098]\n",
      " [0.42160342 0.31635799 0.26203858]\n",
      " [0.37804846 0.31162832 0.31032322]\n",
      " [0.39327223 0.32461819 0.28210958]\n",
      " [0.3487433  0.32436706 0.32688964]\n",
      " [0.38970389 0.30817766 0.30211845]\n",
      " [0.46077306 0.27969531 0.25953163]\n",
      " [0.36840558 0.32176806 0.30982635]\n",
      " [0.43969001 0.28761356 0.27269644]\n",
      " [0.43043536 0.29758617 0.27197848]\n",
      " [0.46027413 0.32716861 0.21255725]\n",
      " [0.4856299  0.30391649 0.21045361]\n",
      " [0.39143016 0.31267214 0.2958977 ]\n",
      " [0.39788256 0.31809494 0.2840225 ]\n",
      " [0.45812826 0.31058049 0.23129124]\n",
      " [0.37793297 0.32756687 0.29450017]\n",
      " [0.40725282 0.31120532 0.28154187]\n",
      " [0.38721502 0.32330903 0.28947596]\n",
      " [0.39791983 0.30992121 0.29215896]\n",
      " [0.37784529 0.31121264 0.31094207]\n",
      " [0.42915776 0.32488186 0.24596039]\n",
      " [0.4596631  0.32764069 0.21269622]\n",
      " [0.36373807 0.31084273 0.32541919]\n",
      " [0.46181488 0.27848414 0.25970098]\n",
      " [0.33836867 0.34130102 0.32033032]\n",
      " [0.35305823 0.33170995 0.31523182]\n",
      " [0.37901199 0.31394126 0.30704675]\n",
      " [0.34920394 0.32151774 0.32927831]\n",
      " [0.36840558 0.32176806 0.30982635]]\n",
      "39\n"
     ]
    }
   ],
   "source": [
    "Input2_trainingset = [] \n",
    "for i in imagefiles_Input2_new:\n",
    "    imagepath = 'C:\\\\Users\\\\ajay9\\\\Downloads\\\\Bruned images\\\\Bruned images\\\\Training_data\\\\' + i\n",
    "    \n",
    "    img = Image.open(imagepath)\n",
    "    Input2_trainingset.append(rgbDetailsInImage_Input2(img)) #using the function defined before\n",
    "    \n",
    "\n",
    "print(\"RGB % of the Input2 Training data\")   \n",
    "print(\"------------------------------------------------------------------------------------------------------------\")\n",
    "\n",
    "Input2_TrainingArray=np.array(Input2_trainingset)\n",
    "print(Input2_TrainingArray)\n",
    "print(len(Input2_TrainingArray))"
   ]
  },
  {
   "cell_type": "code",
   "execution_count": 133,
   "id": "3c829593",
   "metadata": {},
   "outputs": [],
   "source": [
    "k1_Input2 = neighbors.KNeighborsClassifier(1,weights='distance')"
   ]
  },
  {
   "cell_type": "code",
   "execution_count": 134,
   "id": "0155d089",
   "metadata": {},
   "outputs": [
    {
     "data": {
      "text/plain": [
       "KNeighborsClassifier(n_neighbors=1, weights='distance')"
      ]
     },
     "execution_count": 134,
     "metadata": {},
     "output_type": "execute_result"
    }
   ],
   "source": [
    "k1_Input2.fit(Input2_TrainingArray,TrainingLabels_input2_new)"
   ]
  },
  {
   "cell_type": "code",
   "execution_count": 135,
   "id": "17cff336",
   "metadata": {},
   "outputs": [
    {
     "name": "stdout",
     "output_type": "stream",
     "text": [
      "(0.3866068411201154, 0.32173062843164274, 0.2916625304482418)\n",
      "(0.3855221186650065, 0.32065001658265924, 0.29382786475233436)\n",
      "(0.34557617590194173, 0.3305853644087891, 0.3238384596892691)\n",
      "['burn', 'burn', 'notburn']\n"
     ]
    }
   ],
   "source": [
    "import random\n",
    "\n",
    "Testimage_input2  = ['img64.jpg', 'img65.jpg', 'nimg7.jpeg']\n",
    "TestSet_Images_Input2 = []\n",
    "\n",
    "\n",
    "\n",
    "for i in Testimage_input2:\n",
    "    imagepath = 'C:\\\\Users\\\\ajay9\\\\Downloads\\\\Bruned images\\\\Bruned images\\\\Testing_data\\\\' + i \n",
    "    \n",
    "    \n",
    "    img = Image.open(imagepath)\n",
    "    \n",
    "    TestSet_Images_Input2.append(rgbDetailsInImage_Input2(img)) \n",
    "    \n",
    "\n",
    "\n",
    "\n",
    "for i in TestSet_Images_Input2:\n",
    "    print(i)\n",
    "\n",
    "TestLabels_input2= ['burn' if image.startswith('i') else 'notburn' for image in Testimage_input2] # Setting the Labels for the truth values\n",
    "\n",
    "print(TestLabels_input2)"
   ]
  },
  {
   "cell_type": "code",
   "execution_count": 136,
   "id": "fd898af5",
   "metadata": {},
   "outputs": [
    {
     "name": "stdout",
     "output_type": "stream",
     "text": [
      "Numpy Array with the TestSet values of PercentGreen and PercentBlue of the Test images\n",
      "---------------------------------------------\n",
      "[[0.38660684 0.32173063 0.29166253]\n",
      " [0.38552212 0.32065002 0.29382786]\n",
      " [0.34557618 0.33058536 0.32383846]]\n"
     ]
    }
   ],
   "source": [
    "PercentRed = [x for x, y,z in TestSet_Images_Input2]\n",
    "\n",
    "PercentRedArray = np.array(PercentRed)\n",
    "\n",
    "PercentGreen = [y for x, y,z in TestSet_Images_Input2]\n",
    "\n",
    "PercentGreenArray = np.array(PercentGreen)\n",
    "\n",
    "PercentBlue = [z for x, y,z in TestSet_Images_Input2]\n",
    "\n",
    "PercentBlueArray = np.array(PercentBlue)\n",
    "    \n",
    "\n",
    "new_RGB_TestArray = np.column_stack((PercentRedArray,PercentGreenArray,PercentBlueArray))\n",
    "\n",
    "print(\"Numpy Array with the TestSet values of PercentGreen and PercentBlue of the Test images\")\n",
    "print(\"---------------------------------------------\")\n",
    "print(new_RGB_TestArray)"
   ]
  },
  {
   "cell_type": "code",
   "execution_count": 137,
   "id": "e33cf5f3",
   "metadata": {},
   "outputs": [
    {
     "name": "stdout",
     "output_type": "stream",
     "text": [
      "[[0.38660684 0.32173063 0.29166253]\n",
      " [0.38552212 0.32065002 0.29382786]\n",
      " [0.34557618 0.33058536 0.32383846]]\n"
     ]
    }
   ],
   "source": [
    "RGB_Test_Array_Input2= np.array(TestSet_Images_Input2)\n",
    "print(RGB_Test_Array_Input2)"
   ]
  },
  {
   "cell_type": "code",
   "execution_count": 138,
   "id": "35524bab",
   "metadata": {},
   "outputs": [
    {
     "name": "stdout",
     "output_type": "stream",
     "text": [
      "Predicted Values of Three Images:\n",
      "['burn' 'burn' 'notburn']\n"
     ]
    }
   ],
   "source": [
    "k1_pred_input2 = k1.predict(RGB_Test_Array_Input2)\n",
    "\n",
    "print(\"Predicted Values of Three Images:\")\n",
    "print(k1_pred_input2)"
   ]
  },
  {
   "cell_type": "code",
   "execution_count": 139,
   "id": "f8628cba",
   "metadata": {},
   "outputs": [
    {
     "data": {
      "text/plain": [
       "array([[2, 0],\n",
       "       [0, 1]], dtype=int64)"
      ]
     },
     "execution_count": 139,
     "metadata": {},
     "output_type": "execute_result"
    }
   ],
   "source": [
    "confusion_matrix(y_true=TestLabels_input2, y_pred=k1_pred_input2)"
   ]
  },
  {
   "cell_type": "code",
   "execution_count": 140,
   "id": "820c9c1f",
   "metadata": {},
   "outputs": [],
   "source": [
    "# Conclusion: here we taken the 3 images same for both input1 and input and the confusion matrix for input 1 and input 2 \n",
    "#generates the same confusion matrix for both the inputs. So we can conclude that input 2 means 60 % training data will be \n",
    "#sufficient to predict the data. If we consider different test set for both inputs, then result may varry, but for the given\n",
    "# we can train the algorithm with 60% of the data."
   ]
  },
  {
   "cell_type": "code",
   "execution_count": null,
   "id": "4c8aea71",
   "metadata": {},
   "outputs": [],
   "source": []
  },
  {
   "cell_type": "code",
   "execution_count": null,
   "id": "be9ae885",
   "metadata": {},
   "outputs": [],
   "source": []
  },
  {
   "cell_type": "code",
   "execution_count": null,
   "id": "9c6a84d0",
   "metadata": {},
   "outputs": [],
   "source": []
  },
  {
   "cell_type": "code",
   "execution_count": null,
   "id": "cd1d7c48",
   "metadata": {},
   "outputs": [],
   "source": []
  },
  {
   "cell_type": "code",
   "execution_count": null,
   "id": "e627cae0",
   "metadata": {},
   "outputs": [],
   "source": []
  },
  {
   "cell_type": "code",
   "execution_count": null,
   "id": "b369e5ba",
   "metadata": {},
   "outputs": [],
   "source": []
  },
  {
   "cell_type": "code",
   "execution_count": null,
   "id": "8b080842",
   "metadata": {},
   "outputs": [],
   "source": []
  },
  {
   "cell_type": "code",
   "execution_count": null,
   "id": "6634d222",
   "metadata": {},
   "outputs": [],
   "source": []
  },
  {
   "cell_type": "code",
   "execution_count": null,
   "id": "70317d39",
   "metadata": {},
   "outputs": [],
   "source": []
  },
  {
   "cell_type": "code",
   "execution_count": null,
   "id": "b1dc11bc",
   "metadata": {},
   "outputs": [],
   "source": []
  },
  {
   "cell_type": "code",
   "execution_count": null,
   "id": "83abad9e",
   "metadata": {},
   "outputs": [],
   "source": []
  }
 ],
 "metadata": {
  "kernelspec": {
   "display_name": "Python 3 (ipykernel)",
   "language": "python",
   "name": "python3"
  },
  "language_info": {
   "codemirror_mode": {
    "name": "ipython",
    "version": 3
   },
   "file_extension": ".py",
   "mimetype": "text/x-python",
   "name": "python",
   "nbconvert_exporter": "python",
   "pygments_lexer": "ipython3",
   "version": "3.9.7"
  }
 },
 "nbformat": 4,
 "nbformat_minor": 5
}
